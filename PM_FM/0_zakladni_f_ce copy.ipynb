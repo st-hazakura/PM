{
 "cells": [
  {
   "cell_type": "code",
   "execution_count": 1,
   "metadata": {},
   "outputs": [],
   "source": [
    "import numpy as np\n",
    "from copy import deepcopy\n",
    "\n",
    "import matplotlib.pyplot as plt\n",
    "import os"
   ]
  },
  {
   "cell_type": "markdown",
   "metadata": {},
   "source": [
    "### Metropolisovým algoritmem simulujte soustavu 500 atomů argonu plynu při teplotě 170 K a číselné hustotě N/V = 0.14287 mol/dm3. \n",
    "\n",
    "### Argon modelujte mezičásticovým potenciálem Lannard-Jonese s parametry e = 119.8 kB, s = 0.341 nm. \n",
    "\n",
    "### Proveďte také plnou simulaci mikroskopických stavů ve fázovém prostoru (generujte polohy i hybnosti částic).\n",
    "\n",
    "### Vypočtěte radiální distribuční funkci argonu za zmíněných podmínek a sestrojte její graf."
   ]
  },
  {
   "cell_type": "markdown",
   "metadata": {},
   "source": [
    "### $ r_{abs} = |\\vec{r_{1}} - \\vec{r_{2}}| = \\sqrt{(x_1 - x_2)^2 + (y_1 - y_2)^2 + (z_1 - z_2)^2} $"
   ]
  },
  {
   "cell_type": "code",
   "execution_count": null,
   "metadata": {},
   "outputs": [],
   "source": [
    "def vzdalenost_dvou_casic(poloha_castice_1, poloha_castice_2):\n",
    "    summa = 0\n",
    "    for souradnice_c1, souradnice_c2 in zip(poloha_castice_1, poloha_castice_2):\n",
    "        delta = souradnice_c1 - souradnice_c2\n",
    "        delta -= round(delta / velikost_strany_boxu) * velikost_strany_boxu\n",
    "        \n",
    "        summa += delta ** 2\n",
    "    return np.sqrt(summa)\n"
   ]
  },
  {
   "cell_type": "code",
   "execution_count": null,
   "metadata": {},
   "outputs": [],
   "source": [
    "def generace_nenakladajicich_castic():\n",
    "    polohy = []\n",
    "    polohy.append(np.random.uniform(0, velikost_strany_boxu, 3) )\n",
    "    \n",
    "    while len(polohy)<pocet_castic:\n",
    "        nova_castice = np.random.uniform(0, velikost_strany_boxu, 3) \n",
    "        \n",
    "        nakladaji_se = False\n",
    "        for i in range(len(polohy)):\n",
    "            if vzdalenost_dvou_casic(nova_castice, polohy[i]) < sigma:\n",
    "                nakladaji_se = True \n",
    "                break\n",
    "        \n",
    "        if nakladaji_se == False:\n",
    "            polohy.append(nova_castice)\n",
    "        \n",
    "    return polohy"
   ]
  },
  {
   "cell_type": "markdown",
   "metadata": {},
   "source": [
    "## LJ potencialni energie paru"
   ]
  },
  {
   "cell_type": "markdown",
   "metadata": {},
   "source": [
    "### $ U_{r_{ij}} = 4 \\epsilon \\sum{[ (\\frac {\\sigma}{r_{abs}})^{12} - (\\frac {\\sigma}{r_{abs}})^{6} ]} $"
   ]
  },
  {
   "cell_type": "code",
   "execution_count": 5,
   "metadata": {},
   "outputs": [],
   "source": [
    "def LJ_potencialni_energie_castice(abs_vzdal):\n",
    "    if abs_vzdal > r_cut:\n",
    "        U_paru = 0\n",
    "    else:\n",
    "        U_paru = 4 * epsilon *( (sigma/abs_vzdal)**12 - (sigma/abs_vzdal)**6 )\n",
    "    return U_paru"
   ]
  },
  {
   "cell_type": "markdown",
   "metadata": {},
   "source": [
    "## Celkova potencialni energie \n",
    "\n",
    "### $U_{total} = \\sum_{i=1}^{N-1} \\sum_{j=i+1}^{N} U_{r_{ij}}  $ "
   ]
  },
  {
   "cell_type": "code",
   "execution_count": 6,
   "metadata": {},
   "outputs": [],
   "source": [
    "def celkova_pot_en(polohy):\n",
    "    U_tot = 0\n",
    "    for i in range(pocet_castic-1):\n",
    "        for j in range(i+1, pocet_castic):     \n",
    "            abs_vzdal = vzdalenost_dvou_casic(polohy[i], polohy[j])\n",
    "            U_paru = LJ_potencialni_energie_castice(abs_vzdal)\n",
    "            U_tot += U_paru\n",
    "    return U_tot"
   ]
  },
  {
   "cell_type": "markdown",
   "metadata": {},
   "source": [
    "### $E_{\\text{kin}} = \\frac{|\\vec{p}|^2}{2m}$\n",
    "\n",
    "### $E_{\\text{kin, total}} = \\sum_{i=1}^{N} \\frac{|\\vec{p}_i|^2}{2m} = \\sum_{i=1}^{N} \\frac{p_{x_i}^2 + p_{y_i}^2 + p_{z_i}^2}{2m} $\n"
   ]
  },
  {
   "cell_type": "code",
   "execution_count": 7,
   "metadata": {},
   "outputs": [],
   "source": [
    "def celkova_kin_en(hybnosti):\n",
    "    kin_tot = 0\n",
    "    for hybnost in hybnosti:\n",
    "        kin_tot += sum(souradnice**2 for souradnice in hybnost)/ (2 * hmotnost_argonu)\n",
    "    return kin_tot"
   ]
  },
  {
   "cell_type": "markdown",
   "metadata": {},
   "source": [
    "## Metropolis postup\n",
    "#### 0 Spocitat predchozi energie systemu kin a pot\n",
    "\n",
    "#### 1 Zmena polohy a hybnosti nahodne veleciny\n",
    "Vektor nahodneho posunuti catice  $u_{max}$, vybirame pokus-omyl, ale pro pocatecni experiment muze byt  $u_{max} = 2\\sigma$\n",
    "\n",
    "Nova poloha $\\vec{r_{z}^{i}} [\\sigma]$  \n",
    "### $ \\vec{r_{z}^{i}} = \\vec{r_{i}^{j}} + \\vec{u} (- u_{max},  u_{max}) $\n",
    "\n",
    "Nova hybnost $\\vec{p_{z}^{i}}$. Pro $\\nu_{max} = ?500? $ \n",
    "### $ \\vec{p_{z}^{i}} = \\vec{p_{i}^{j}} + \\vec{\\nu} (- \\nu_{max},  \\nu_{max}) $"
   ]
  },
  {
   "cell_type": "code",
   "execution_count": null,
   "metadata": {},
   "outputs": [],
   "source": [
    "def posunuti(stara_poloha, u_max = 10*sigma): \n",
    "    nova_poloha = stara_poloha + np.random.uniform(-u_max, u_max, 3)\n",
    "    return nova_poloha % velikost_strany_boxu\n",
    "\n",
    "def zmena_hybnosti(stara_hybnost, nu_max = 200):\n",
    "    nova_hybnost = stara_hybnost + np.random.uniform(-nu_max, nu_max, 3) \n",
    "    return nova_hybnost"
   ]
  },
  {
   "cell_type": "markdown",
   "metadata": {},
   "source": [
    "####  2 Zmena $E_{kin}$ a $E_{pot}$ v celem systemu\n",
    "\n",
    "### $\\Delta E = E_{nova} - E_{stara} \\Rightarrow \\Delta E \\le 0 ... $ prijmame zmeny. $ \\Delta E > 0:$ prijimame zmeny polohy/hybosti s pravdepodobnosti $P = e^{-\\Delta E / (k_B T)} $ kterou poravnavame s nahodnym cislem r, s rovnomernym rozlozenim $r \\in [0,1] $\n",
    "\n",
    "$r<P$ prijmame zmeny (t.z P je blizko 1), $r \\ge P$ odmitame"
   ]
  },
  {
   "cell_type": "code",
   "execution_count": 9,
   "metadata": {},
   "outputs": [],
   "source": [
    "def pravdepodobnostni_kriterium(delta_e):\n",
    "    return True if delta_e <= 0 or np.random.rand() < np.exp(-delta_e / (kb * teplota)) else False"
   ]
  },
  {
   "cell_type": "code",
   "execution_count": null,
   "metadata": {},
   "outputs": [],
   "source": [
    "def metropolis_krok(polohy, hybnosti):\n",
    "    \n",
    "    stara_pot_en = celkova_pot_en(polohy)\n",
    "    stara_kin_en = celkova_kin_en(hybnosti)\n",
    "    \n",
    "    nove_polohy = deepcopy(polohy)\n",
    "    nove_hybnosti = deepcopy(hybnosti)\n",
    "    \n",
    "    id_nah_cast = np.random.randint(0,pocet_castic)\n",
    "    nove_polohy[id_nah_cast] = posunuti(polohy[id_nah_cast])\n",
    "    nove_hybnosti[id_nah_cast] = zmena_hybnosti(hybnosti[id_nah_cast])\n",
    "    \n",
    "    nova_e_pot = celkova_pot_en(nove_polohy)\n",
    "    nova_e_kin = celkova_kin_en(nove_hybnosti)\n",
    "    \n",
    "    delta_e_pot = nova_e_pot - stara_pot_en\n",
    "    delta_e_kin = nova_e_kin - stara_kin_en\n",
    "    \n",
    "    prijmout_polohy = pravdepodobnostni_kriterium(delta_e_pot)\n",
    "    prijmout_hybnosti = pravdepodobnostni_kriterium(delta_e_kin)\n",
    "    \n",
    "    if prijmout_polohy and prijmout_hybnosti:\n",
    "        return nove_polohy, nove_hybnosti, [1,1],  nova_e_pot, nova_e_kin\n",
    "    elif prijmout_hybnosti:\n",
    "        return polohy, nove_hybnosti, [0,1], stara_pot_en, nova_e_kin\n",
    "    elif prijmout_polohy:\n",
    "        return nove_polohy, hybnosti, [1,0], nova_e_pot, stara_kin_en\n",
    "    else:\n",
    "        return polohy, hybnosti, [0,0], stara_pot_en, stara_kin_en"
   ]
  },
  {
   "cell_type": "markdown",
   "metadata": {},
   "source": [
    "Pocatecni podminky"
   ]
  },
  {
   "cell_type": "code",
   "execution_count": null,
   "metadata": {},
   "outputs": [],
   "source": [
    "cislo_pokusu = \"n\"\n",
    "nazev_slozky = f\"Pokus_cislo_{cislo_pokusu}\"\n",
    "os.mkdir(f\"Pokus_cislo_{cislo_pokusu}\")\n",
    "soubor_poloh_MC = open(f\"{nazev_slozky}\\\\polohy_MC_{cislo_pokusu}.xyz\", \"a\")\n",
    "soubor_energie_MC = open(f\"{nazev_slozky}\\\\prubeh_en_MC{cislo_pokusu}.txt\", \"a\")\n",
    "soubor_prijatych_zmen = open(f\"{nazev_slozky}\\\\prubeh_zmen_MC{cislo_pokusu}.txt\", \"a\")"
   ]
  },
  {
   "cell_type": "code",
   "execution_count": null,
   "metadata": {},
   "outputs": [],
   "source": [
    "pocet_castic = 500\n",
    "teplota = 170                       # [K]\n",
    "hmotnost_argonu = 39.948 * 1.66e-27 # [kg]\n",
    "\n",
    "kb = 1.3806E-23                     # [J*K^-1]\n",
    "epsilon = 119.8 * kb                # [J]\n",
    "sigma = 3.41E-10                    # [m]\n",
    "\n",
    "ro_molarni = 0.14287 * 10**3        #[mol/dm^3] * 10^3 = [mol/m^3]\n",
    "avogadrova_konst =6.022E23\n",
    "ro_ciselna = ro_molarni * avogadrova_konst\n",
    "objem = pocet_castic / ro_ciselna\n",
    "\n",
    "velikost_strany_boxu = (objem)**(1/3)\n",
    "r_cut = 4*sigma\n",
    "hustota = pocet_castic / objem\n",
    "\n",
    "hybnosti = np.zeros((pocet_castic,3))"
   ]
  },
  {
   "cell_type": "code",
   "execution_count": null,
   "metadata": {},
   "outputs": [],
   "source": [
    "def main():\n",
    "    polohy = generace_nenakladajicich_castic()\n",
    "    soubor_poloh_MC.write(f\"{pocet_castic}\\n \\n\")\n",
    "    for castice in polohy:\n",
    "        soubor_poloh_MC.write(\"Ar \")\n",
    "        soubor_poloh_MC.write(\" \".join(map(str, castice)) + \"\\n\")      \n",
    "    \n",
    "    e_k = [celkova_kin_en(hybnosti)]\n",
    "    e_p = [celkova_pot_en(polohy)]\n",
    "    soubor_energie_MC.write(f\"0 {e_p} \\n\")\n",
    "    \n",
    "    prubeh_prijatych_zmen_pot_kin = []\n",
    "    \n",
    "    pocet_kroku_MC = 3000\n",
    "    for i in range(pocet_kroku_MC):\n",
    "        polohy, hybnosti, co_prijalo, en_pot_n, en_kin_n = metropolis_krok(polohy, hybnosti)\n",
    "        \n",
    "        soubor_poloh_MC.write(f\"{pocet_castic}\\n \\n\")\n",
    "        for castice in polohy:\n",
    "            soubor_poloh_MC.write(\"Ar \")\n",
    "            soubor_poloh_MC.write(\" \".join(map(str, castice)) + \"\\n\") \n",
    "        prubeh_prijatych_zmen_pot_kin.append(co_prijalo)\n",
    "        soubor_prijatych_zmen.write()\n",
    "        \n",
    "        e_p.append(en_pot_n)\n",
    "        soubor_energie_MC.write(f\"{i} {en_pot_n} \\n\")             \n",
    "        e_k.append(en_kin_n)\n",
    "    soubor_energie_MC.close()\n",
    "    soubor_poloh_MC.close()\n",
    "    soubor_prijatych_zmen.close()\n",
    "    \n",
    "        \n",
    "    return prubeh_prijatych_zmen_pot_kin, e_p, e_k"
   ]
  },
  {
   "cell_type": "code",
   "execution_count": null,
   "metadata": {},
   "outputs": [],
   "source": [
    "g_r, zmena_r_v, e_p, e_k = main()"
   ]
  },
  {
   "cell_type": "code",
   "execution_count": null,
   "metadata": {},
   "outputs": [],
   "source": [
    "g_r, zmena_r_v, e_p, e_k = main()\n",
    "\n",
    "e_total = np.array(e_p) + np.array(e_k)"
   ]
  },
  {
   "cell_type": "code",
   "execution_count": null,
   "metadata": {},
   "outputs": [
    {
     "data": {
      "text/plain": [
       "[<matplotlib.lines.Line2D at 0x2184df528a0>]"
      ]
     },
     "execution_count": 17,
     "metadata": {},
     "output_type": "execute_result"
    },
    {
     "data": {
      "image/png": "[encoded data removed]",
      "text/plain": [
       "<Figure size 640x480 with 1 Axes>"
      ]
     },
     "metadata": {},
     "output_type": "display_data"
    }
   ],
   "source": [
    "plt.plot(e_k)"
   ]
  },
  {
   "cell_type": "code",
   "execution_count": 18,
   "metadata": {},
   "outputs": [
    {
     "data": {
      "text/plain": [
       "[<matplotlib.lines.Line2D at 0x2184feae3f0>]"
      ]
     },
     "execution_count": 18,
     "metadata": {},
     "output_type": "execute_result"
    },
    {
     "data": {
      "image/png": "[encoded data removed]",
      "text/plain": [
       "<Figure size 640x480 with 1 Axes>"
      ]
     },
     "metadata": {},
     "output_type": "display_data"
    }
   ],
   "source": [
    "plt.plot(e_p)"
   ]
  }
 ],
 "metadata": {
  "kernelspec": {
   "display_name": "Python 3",
   "language": "python",
   "name": "python3"
  },
  "language_info": {
   "codemirror_mode": {
    "name": "ipython",
    "version": 3
   },
   "file_extension": ".py",
   "mimetype": "text/x-python",
   "name": "python",
   "nbconvert_exporter": "python",
   "pygments_lexer": "ipython3",
   "version": "3.12.3"
  }
 },
 "nbformat": 4,
 "nbformat_minor": 2
}
