{
 "cells": [
  {
   "cell_type": "code",
   "execution_count": 166,
   "metadata": {},
   "outputs": [],
   "source": [
    "import numpy as np\n",
    "from copy import deepcopy\n",
    "\n",
    "import matplotlib.pyplot as plt\n",
    "import os"
   ]
  },
  {
   "cell_type": "code",
   "execution_count": null,
   "metadata": {},
   "outputs": [],
   "source": [
    "cislo_pokusu = \"5\"\n",
    "nazev_slozky = f\"Pokus_cislo_{cislo_pokusu}\"\n",
    "nazev_souboru = f\"{nazev_slozky}\\\\polohy_MC_{cislo_pokusu}.xyz\"\n",
    "\n",
    "\n",
    "pocet_castic = 500\n",
    "teplota = 170                       # [K]\n",
    "hmotnost_argonu = 39.948 * 1.66e-27 # [kg]\n",
    "\n",
    "kb = 1.3806E-23                     # [J*K^-1]\n",
    "epsilon = 119.8 * kb                # [J]\n",
    "sigma = 3.41E-10                    # [m]\n",
    "\n",
    "ro_molarni = 0.14287 * 10**3        #[mol/dm^3] * 10^3 = [mol/m^3]\n",
    "avogadrova_konst =6.022E23\n",
    "ro_ciselna = ro_molarni * avogadrova_konst\n",
    "objem = pocet_castic / ro_ciselna\n",
    "\n",
    "velikost_strany_boxu = (objem)**(1/3)\n",
    "r_cut = 4*sigma\n",
    "hustota = pocet_castic / objem"
   ]
  },
  {
   "cell_type": "code",
   "execution_count": 168,
   "metadata": {},
   "outputs": [],
   "source": [
    "def precist_posledni_polohy(nazev_souboru, pocet_castic):\n",
    "    with open(nazev_souboru, \"r\") as soubor:\n",
    "        radky = soubor.readlines()[-(pocet_castic + 2):]\n",
    "\n",
    "    posledni_pozice = []\n",
    "    for radek in radky[2:]:\n",
    "        castice = radek.split()\n",
    "        if len(castice) == 4:\n",
    "            x, y, z = map(float, castice[1:])\n",
    "            posledni_pozice.append([x, y, z])\n",
    "    return np.array(posledni_pozice)"
   ]
  },
  {
   "cell_type": "markdown",
   "metadata": {},
   "source": [
    "### $ r_{abs} = |\\vec{r_{1}} - \\vec{r_{2}}| = \\sqrt{(x_1 - x_2)^2 + (y_1 - y_2)^2 + (z_1 - z_2)^2} $"
   ]
  },
  {
   "cell_type": "code",
   "execution_count": 169,
   "metadata": {},
   "outputs": [],
   "source": [
    "def vzdalenost_dvou_casic(poloha_castice_1, poloha_castice_2):\n",
    "    summa = 0\n",
    "    for souradnice_c1, souradnice_c2 in zip(poloha_castice_1, poloha_castice_2):\n",
    "        delta = souradnice_c1 - souradnice_c2\n",
    "        delta -= round(delta / velikost_strany_boxu) * velikost_strany_boxu\n",
    "        \n",
    "        summa += delta ** 2\n",
    "    return summa"
   ]
  },
  {
   "cell_type": "markdown",
   "metadata": {},
   "source": [
    "## LJ potencialni energie paru"
   ]
  },
  {
   "cell_type": "markdown",
   "metadata": {},
   "source": [
    "### $ U_{r_{ij}} = 4 \\epsilon \\sum{[ (\\frac {\\sigma}{r_{abs}})^{12} - (\\frac {\\sigma}{r_{abs}})^{6} ]} $"
   ]
  },
  {
   "cell_type": "code",
   "execution_count": 170,
   "metadata": {},
   "outputs": [],
   "source": [
    "def LJ_potencialni_energie_castice(ctvr_vzdal): # upravy pro ctvr_vzdal = asb_vzdal^2 \n",
    "    if ctvr_vzdal > r_cut**2:\n",
    "        U_paru = 0\n",
    "    else:\n",
    "        U_paru = 4 * epsilon *( (sigma**2/ctvr_vzdal)**6 - (sigma**2/ctvr_vzdal)**3 )\n",
    "    return U_paru"
   ]
  },
  {
   "cell_type": "markdown",
   "metadata": {},
   "source": [
    "## Celkova potencialni energie \n",
    "\n",
    "### $U_{total} = \\sum_{i=1}^{N-1} \\sum_{j=i+1}^{N} U_{r_{ij}}  $ "
   ]
  },
  {
   "cell_type": "code",
   "execution_count": 171,
   "metadata": {},
   "outputs": [],
   "source": [
    "def celkova_pot_en(polohy):\n",
    "    U_tot = 0\n",
    "    for i in range(pocet_castic-1):\n",
    "        for j in range(i+1, pocet_castic):     \n",
    "            ctvr_vzdal = vzdalenost_dvou_casic(polohy[i], polohy[j])\n",
    "            U_paru = LJ_potencialni_energie_castice(ctvr_vzdal)\n",
    "            U_tot += U_paru\n",
    "    return U_tot"
   ]
  },
  {
   "cell_type": "markdown",
   "metadata": {},
   "source": [
    "Nova poloha $\\vec{r_{z}^{i}} [\\sigma]$  \n",
    "### $ \\vec{r_{z}^{i}} = \\vec{r_{i}^{j}} + \\vec{u} (- u_{max},  u_{max}) $"
   ]
  },
  {
   "cell_type": "code",
   "execution_count": 172,
   "metadata": {},
   "outputs": [],
   "source": [
    "def posunuti(stara_poloha, u_max = 10*sigma): \n",
    "    nova_poloha = stara_poloha + np.random.uniform(-u_max, u_max, 3)\n",
    "    return nova_poloha % velikost_strany_boxu"
   ]
  },
  {
   "cell_type": "markdown",
   "metadata": {},
   "source": [
    "####  2 Zmena $E_{pot}$ v celem systemu\n",
    "\n",
    "$\\Delta E = E_{nova} - E_{stara} \\Rightarrow \\Delta E \\le 0 ...  \\text{prijmame zmeny.}  $\n",
    "\n",
    "$ \\Delta E > 0: \\text{prijimame zmeny polohy/hybosti s pravdepodobnosti } P = e^{-\\Delta E / (k_B T)} $ kterou poravnavame s nahodnym cislem r, s rovnomernym rozlozenim $r \\in [0,1] $\n",
    "\n",
    "$r<P$ prijmame zmeny (t.z P je blizko 1), $r \\ge P$ odmitame"
   ]
  },
  {
   "cell_type": "code",
   "execution_count": 173,
   "metadata": {},
   "outputs": [],
   "source": [
    "def pravdepodobnostni_kriterium(delta_e):\n",
    "    return True if delta_e <= 0 or np.random.rand() < np.exp(-delta_e / (kb * teplota)) else False"
   ]
  },
  {
   "cell_type": "code",
   "execution_count": 174,
   "metadata": {},
   "outputs": [],
   "source": [
    "def energie_pot_zvol_cast(polohy, id_castice, pocet_castic):\n",
    "    U_tot = 0\n",
    "    for i in range (id_castice):\n",
    "        ctvr_vzdal = vzdalenost_dvou_casic(polohy[i], polohy[id_castice])\n",
    "        U_paru = LJ_potencialni_energie_castice(ctvr_vzdal)\n",
    "        U_tot += U_paru        \n",
    "    for j in range (id_castice+1, pocet_castic):\n",
    "        ctvr_vzdal = vzdalenost_dvou_casic(polohy[j], polohy[id_castice])\n",
    "        U_paru = LJ_potencialni_energie_castice(ctvr_vzdal)\n",
    "        U_tot += U_paru\n",
    "    return U_tot"
   ]
  },
  {
   "cell_type": "code",
   "execution_count": 175,
   "metadata": {},
   "outputs": [],
   "source": [
    "def metropolis_krok(polohy):\n",
    "    nove_polohy = deepcopy(polohy)\n",
    "    id_nah_cast = np.random.randint(0, pocet_castic)\n",
    "    nove_polohy[id_nah_cast] = posunuti(polohy[id_nah_cast])\n",
    "    \n",
    "    stara_pot_en = energie_pot_zvol_cast(polohy, id_nah_cast, pocet_castic)\n",
    "    nova_e_pot = stara_pot_en = energie_pot_zvol_cast(polohy, id_nah_cast, pocet_castic)\n",
    "    \n",
    "    delta_e_pot = nova_e_pot - stara_pot_en\n",
    "    prijmout_polohy = pravdepodobnostni_kriterium(delta_e_pot)\n",
    "    \n",
    "    if prijmout_polohy: return nove_polohy\n",
    "    else:               return polohy"
   ]
  },
  {
   "cell_type": "markdown",
   "metadata": {},
   "source": [
    "### Radialni distribucni funkce"
   ]
  },
  {
   "cell_type": "markdown",
   "metadata": {},
   "source": [
    "pocitat prez pary a pak najit slupku do ktere to spadne\n",
    " "
   ]
  },
  {
   "cell_type": "code",
   "execution_count": 176,
   "metadata": {},
   "outputs": [],
   "source": [
    "# def rad_distr_f(polohy, pocet_dilku):\n",
    "#     r = np.linspace(0, 15e-10, pocet_dilku) # muzeme do 15 A, ale delame do r_cut\n",
    "#     delta_r = r[1] - r[0]\n",
    "#     g_r = np.zeros(pocet_dilku)\n",
    "#     for vzdalenost in range(pocet_dilku-1):\n",
    "#         pocet_castic_v_kruz = 0    \n",
    "#         for i in range(pocet_castic-1):\n",
    "#             for j in range(i+1, pocet_castic):  # pary\n",
    "#                 abs_vzdal = vzdalenost_dvou_casic(polohy[i], polohy[j])\n",
    "#                 if r[vzdalenost] <= abs_vzdal < r[vzdalenost + 1]:\n",
    "#                     pocet_castic_v_kruz += 1\n",
    "#         V_r= 4* np.pi * r[vzdalenost+1]**2 *delta_r\n",
    "#         # hustota = (pocet_castic/objem_boxu) * V_r\n",
    "#         g_r[vzdalenost] = (pocet_castic_v_kruz / V_r)/hustota\n",
    "#     return g_r"
   ]
  },
  {
   "cell_type": "code",
   "execution_count": 177,
   "metadata": {},
   "outputs": [],
   "source": [
    "def rad_distr_f(polohy, pocet_dilku):\n",
    "    delta_r = 15E-10 / pocet_dilku\n",
    "    n_castic_slupky = np.zeros(pocet_dilku)\n",
    "\n",
    "    for i in range(pocet_castic - 1):\n",
    "        for j in range(i + 1, pocet_castic):  \n",
    "            abs_vzdal = np.sqrt(vzdalenost_dvou_casic(polohy[i], polohy[j]))\n",
    "            index = int(abs_vzdal // delta_r)  \n",
    "            if index < pocet_dilku:\n",
    "                n_castic_slupky[index] += 1\n",
    "    \n",
    "    for i in range(len(n_castic_slupky)):\n",
    "        V_r= 4* np.pi * (delta_r*(i+1))**2 *delta_r\n",
    "        n_castic_slupky[i] = (n_castic_slupky[i]/V_r) / hustota /pocet_castic\n",
    "    \n",
    "    return n_castic_slupky"
   ]
  },
  {
   "cell_type": "markdown",
   "metadata": {},
   "source": [
    "jak funguje a co znamena k cemu jsou?, produkcni faze"
   ]
  },
  {
   "cell_type": "code",
   "execution_count": null,
   "metadata": {},
   "outputs": [],
   "source": [
    "def main():  \n",
    "    polohy = precist_posledni_polohy(nazev_souboru, pocet_castic)\n",
    "    \n",
    "    rdf_kroky = 50\n",
    "    pocet_dilku = 100\n",
    "    rdf_vysledky = np.zeros(pocet_dilku)\n",
    "\n",
    "    with open (f\"{nazev_slozky}\\\\rdf_{cislo_pokusu}.txt\", \"w\") as soubor_rdf:\n",
    "        \n",
    "        for _ in range(rdf_kroky, pocet_dilku):\n",
    "            rdf_mezni = np.zeros(pocet_dilku)\n",
    "            for _ in range(300):\n",
    "                polohy = metropolis_krok(polohy)\n",
    "            rdf_nove = rad_distr_f(polohy, pocet_dilku)\n",
    "            # polohy = metropolis_krok(polohy)\n",
    "            rdf_mezni += rdf_nove\n",
    "            rdf_vysledky += rdf_mezni    \n",
    "            \n",
    "            for rdf in rdf_vysledky:\n",
    "                soubor_rdf.write(f\"{rdf} \\n\")\n",
    "     \n",
    "    return rdf_vysledky/rdf_kroky "
   ]
  },
  {
   "cell_type": "code",
   "execution_count": 179,
   "metadata": {},
   "outputs": [],
   "source": [
    "rdf_vysledky = main()"
   ]
  },
  {
   "cell_type": "code",
   "execution_count": 186,
   "metadata": {},
   "outputs": [
    {
     "data": {
      "text/plain": [
       "[<matplotlib.lines.Line2D at 0x1f574441e80>]"
      ]
     },
     "execution_count": 186,
     "metadata": {},
     "output_type": "execute_result"
    },
    {
     "data": {
      "image/png": "[encoded data removed]",
      "text/plain": [
       "<Figure size 640x480 with 1 Axes>"
      ]
     },
     "metadata": {},
     "output_type": "display_data"
    }
   ],
   "source": [
    "pocet_dilku = 80\n",
    "x = np.linspace(0, 15e-10, len(rdf_vysledky))\n",
    "plt.plot(x,rdf_vysledky)"
   ]
  },
  {
   "cell_type": "code",
   "execution_count": 181,
   "metadata": {},
   "outputs": [],
   "source": [
    "with open (f\"{nazev_slozky}\\\\vysledny_rdf_{cislo_pokusu}.txt\", \"w\") as soubor_rdf:\n",
    "    for rdf in rdf_vysledky:\n",
    "        soubor_rdf.write(f\"{rdf} \\n\")"
   ]
  }
 ],
 "metadata": {
  "kernelspec": {
   "display_name": "Python 3",
   "language": "python",
   "name": "python3"
  },
  "language_info": {
   "codemirror_mode": {
    "name": "ipython",
    "version": 3
   },
   "file_extension": ".py",
   "mimetype": "text/x-python",
   "name": "python",
   "nbconvert_exporter": "python",
   "pygments_lexer": "ipython3",
   "version": "3.12.3"
  }
 },
 "nbformat": 4,
 "nbformat_minor": 2
}
