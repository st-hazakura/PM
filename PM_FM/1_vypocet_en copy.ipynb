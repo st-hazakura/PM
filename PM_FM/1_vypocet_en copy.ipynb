{
 "cells": [
  {
   "cell_type": "code",
   "execution_count": 2,
   "metadata": {},
   "outputs": [],
   "source": [
    "import numpy as np\n",
    "from copy import deepcopy\n",
    "\n",
    "import matplotlib.pyplot as plt\n",
    "import os"
   ]
  },
  {
   "cell_type": "code",
   "execution_count": null,
   "metadata": {},
   "outputs": [],
   "source": [
    "cislo_pokusu = \"n\"\n",
    "nazev_slozky = f\"Pokus_cislo_{cislo_pokusu}\"\n",
    "os.mkdir(f\"Pokus_cislo_{cislo_pokusu}\")\n",
    "soubor_poloh_MC = open(f\"{nazev_slozky}\\\\polohy_MC_{cislo_pokusu}.xyz\", \"a\")\n",
    "soubor_energie_MC = open(f\"{nazev_slozky}\\\\prubeh_en_MC_{cislo_pokusu}.txt\", \"a\")\n",
    "soubor_prijatych_zmen = open(f\"{nazev_slozky}\\\\prubeh_zmen_MC_{cislo_pokusu}.txt\", \"a\")\n",
    "\n",
    "pocet_castic = 250\n",
    "teplota = 170                       # [K]\n",
    "hmotnost_argonu = 39.948 * 1.66e-27 # [kg]\n",
    "\n",
    "kb = 1.3806E-23                     # [J*K^-1]\n",
    "epsilon = 119.8 * kb                # [J]\n",
    "sigma = 3.41E-10                    # [m]\n",
    "\n",
    "ro_molarni = 0.14287 * 10**3        #[mol/dm^3] * 10^3 = [mol/m^3]\n",
    "avogadrova_konst = 6.022E23\n",
    "ro_ciselna = ro_molarni * avogadrova_konst\n",
    "objem = pocet_castic / ro_ciselna\n",
    "\n",
    "velikost_strany_boxu = (objem)**(1/3)\n",
    "r_cut = 4*sigma\n",
    "hustota = pocet_castic / objem"
   ]
  },
  {
   "cell_type": "markdown",
   "metadata": {},
   "source": [
    "### $ r_{abs} = |\\vec{r_{1}} - \\vec{r_{2}}| = \\sqrt{(x_1 - x_2)^2 + (y_1 - y_2)^2 + (z_1 - z_2)^2} $"
   ]
  },
  {
   "cell_type": "code",
   "execution_count": null,
   "metadata": {},
   "outputs": [],
   "source": [
    "def vzdalenost_dvou_casic(poloha_castice_1, poloha_castice_2):\n",
    "    summa = 0\n",
    "    for souradnice_c1, souradnice_c2 in zip(poloha_castice_1, poloha_castice_2):\n",
    "        delta = souradnice_c1 - souradnice_c2\n",
    "        delta -= round(delta / velikost_strany_boxu) * velikost_strany_boxu\n",
    "        \n",
    "        summa += delta ** 2\n",
    "    return summa # nevracim odmocninu"
   ]
  },
  {
   "cell_type": "code",
   "execution_count": 90,
   "metadata": {},
   "outputs": [],
   "source": [
    "def generace_nenakladajicich_castic():\n",
    "    polohy = []\n",
    "    polohy.append(np.random.uniform(0, velikost_strany_boxu, 3) )\n",
    "    \n",
    "    while len(polohy)<pocet_castic:\n",
    "        nova_castice = np.random.uniform(0, velikost_strany_boxu, 3) \n",
    "        \n",
    "        nakladaji_se = False\n",
    "        for i in range(len(polohy)):\n",
    "            if vzdalenost_dvou_casic(nova_castice, polohy[i]) < sigma:\n",
    "                nakladaji_se = True \n",
    "                break\n",
    "        \n",
    "        if nakladaji_se == False:\n",
    "            polohy.append(nova_castice)\n",
    "        \n",
    "    return polohy"
   ]
  },
  {
   "cell_type": "markdown",
   "metadata": {},
   "source": [
    "## LJ potencialni energie paru"
   ]
  },
  {
   "cell_type": "markdown",
   "metadata": {},
   "source": [
    "### $ U_{r_{ij}} = 4 \\epsilon \\sum{[ (\\frac {\\sigma}{r_{abs}})^{12} - (\\frac {\\sigma}{r_{abs}})^{6} ]} $"
   ]
  },
  {
   "cell_type": "code",
   "execution_count": null,
   "metadata": {},
   "outputs": [],
   "source": [
    "def LJ_potencialni_energie_castice(abs_vzdal): # upravy pro abs_vzdal^2 \n",
    "    if abs_vzdal > r_cut**2:\n",
    "        U_paru = 0\n",
    "    else:\n",
    "        U_paru = 4 * epsilon *( (sigma**2/abs_vzdal)**6 - (sigma**2/abs_vzdal)**3 )\n",
    "    return U_paru"
   ]
  },
  {
   "cell_type": "markdown",
   "metadata": {},
   "source": [
    "## Celkova potencialni energie \n",
    "\n",
    "### $U_{total} = \\sum_{i=1}^{N-1} \\sum_{j=i+1}^{N} U_{r_{ij}}  $ "
   ]
  },
  {
   "cell_type": "code",
   "execution_count": 92,
   "metadata": {},
   "outputs": [],
   "source": [
    "def celkova_pot_en(polohy):\n",
    "    U_tot = 0\n",
    "    for i in range(pocet_castic-1):\n",
    "        for j in range(i+1, pocet_castic):     \n",
    "            abs_vzdal = vzdalenost_dvou_casic(polohy[i], polohy[j])\n",
    "            U_paru = LJ_potencialni_energie_castice(abs_vzdal)\n",
    "            U_tot += U_paru\n",
    "    return U_tot"
   ]
  },
  {
   "cell_type": "code",
   "execution_count": 1,
   "metadata": {},
   "outputs": [],
   "source": [
    "def energie_pot_zvol_cast(polohy, id_castice, pocet_castic):\n",
    "    U_tot = 0\n",
    "    for i in range (id_castice):\n",
    "        abs_vzdal = vzdalenost_dvou_casic(polohy[i], polohy[id_castice])\n",
    "        U_paru = LJ_potencialni_energie_castice(abs_vzdal)\n",
    "        U_tot += U_paru        \n",
    "    for j in range (id_castice+1, pocet_castic):\n",
    "        abs_vzdal = vzdalenost_dvou_casic(polohy[j], polohy[id_castice])\n",
    "        U_paru = LJ_potencialni_energie_castice(abs_vzdal)\n",
    "        U_tot += U_paru\n",
    "    return U_tot"
   ]
  },
  {
   "cell_type": "markdown",
   "metadata": {},
   "source": [
    "Nova poloha $\\vec{r_{z}^{i}} [\\sigma]$  \n",
    "### $ \\vec{r_{z}^{i}} = \\vec{r_{i}^{j}} + \\vec{u} (- u_{max},  u_{max}) $"
   ]
  },
  {
   "cell_type": "code",
   "execution_count": null,
   "metadata": {},
   "outputs": [],
   "source": [
    "def posunuti(stara_poloha, u_max = 10*sigma): \n",
    "    nova_poloha = stara_poloha + np.random.uniform(-u_max, u_max, 3)\n",
    "    return nova_poloha % velikost_strany_boxu"
   ]
  },
  {
   "cell_type": "markdown",
   "metadata": {},
   "source": [
    "####  2 Zmena $E_{pot}$ v celem systemu\n",
    "\n",
    "$\\Delta E = E_{nova} - E_{stara} \\Rightarrow \\Delta E \\le 0 ...  \\text{prijmame zmeny.}  $\n",
    "\n",
    "$ \\Delta E > 0: \\text{prijimame zmeny polohy/hybosti s pravdepodobnosti } P = e^{-\\Delta E / (k_B T)} $ kterou poravnavame s nahodnym cislem r, s rovnomernym rozlozenim $r \\in [0,1] $\n",
    "\n",
    "$r<P$ prijmame zmeny (t.z P je blizko 1), $r \\ge P$ odmitame"
   ]
  },
  {
   "cell_type": "code",
   "execution_count": 94,
   "metadata": {},
   "outputs": [],
   "source": [
    "def pravdepodobnostni_kriterium(delta_e):\n",
    "    return True if delta_e <= 0 or np.random.rand() < np.exp(-delta_e / (kb * teplota)) else False"
   ]
  },
  {
   "cell_type": "code",
   "execution_count": null,
   "metadata": {},
   "outputs": [],
   "source": [
    "# def metropolis_krok(polohy):\n",
    "    \n",
    "#     # stara_pot_en = celkova_pot_en(polohy)\n",
    "#     # print(stara_pot_en)\n",
    "#     nove_polohy = deepcopy(polohy)\n",
    "    \n",
    "#     id_nah_cast = np.random.randint(0,pocet_castic)\n",
    "#     nove_polohy[id_nah_cast] = posunuti(polohy[id_nah_cast])\n",
    "    \n",
    "#     nova_e_pot = celkova_pot_en(nove_polohy)\n",
    "\n",
    "#     return nove_polohy, 1, nova_e_pot\n",
    "\n",
    "#     # delta_e_pot = nova_e_pot - stara_pot_en\n",
    "#     # prijmout_polohy = pravdepodobnostni_kriterium(delta_e_pot)\n",
    "\n",
    "#     # if prijmout_polohy:\n",
    "#     #     return nove_polohy, 1, nova_e_pot\n",
    "#     # else:\n",
    "#     #     return polohy, 0, stara_pot_en"
   ]
  },
  {
   "cell_type": "code",
   "execution_count": null,
   "metadata": {},
   "outputs": [],
   "source": [
    "def metropolis_krok(polohy):\n",
    "    stara_pot_en = celkova_pot_en(polohy)\n",
    "    nove_polohy = deepcopy(polohy)\n",
    "    \n",
    "    id_nah_cast = np.random.randint(0,pocet_castic)\n",
    "    nove_polohy[id_nah_cast] = posunuti(polohy[id_nah_cast])\n",
    "    \n",
    "    stara_pot_en = energie_pot_zvol_cast(polohy, id_nah_cast, pocet_castic)    \n",
    "    nova_e_pot = energie_pot_zvol_cast(nove_polohy, id_nah_cast, pocet_castic)\n",
    "\n",
    "    delta_e_pot = nova_e_pot - stara_pot_en\n",
    "    prijmout_polohy = pravdepodobnostni_kriterium(delta_e_pot)\n",
    "\n",
    "    if prijmout_polohy:\n",
    "        return nove_polohy, 1, nova_e_pot\n",
    "    else:\n",
    "        return polohy, 0, stara_pot_en\n"
   ]
  },
  {
   "cell_type": "markdown",
   "metadata": {},
   "source": [
    "### Pocatecni podminky a prubeh"
   ]
  },
  {
   "cell_type": "code",
   "execution_count": 96,
   "metadata": {},
   "outputs": [],
   "source": [
    "def main():\n",
    "    polohy = generace_nenakladajicich_castic()\n",
    "    soubor_poloh_MC.write(f\"{pocet_castic}\\n \\n\")\n",
    "    for castice in polohy:\n",
    "        soubor_poloh_MC.write(\"Ar \")\n",
    "        soubor_poloh_MC.write(\" \".join(map(str, castice)) + \"\\n\")      \n",
    "    \n",
    "    e_p = [celkova_pot_en(polohy)]\n",
    "    soubor_energie_MC.write(f\"0 {e_p[0]} \\n\")\n",
    "    \n",
    "    prubeh_prijatych_zmen_e_pot = []\n",
    "    prijate_zmeny_polohy = 0\n",
    "    \n",
    "    pocet_kroku_MC = 50\n",
    "    for i in range(pocet_kroku_MC):\n",
    "        polohy, co_prijalo, en_pot_n = metropolis_krok(polohy)\n",
    "        \n",
    "        prijate_zmeny_polohy+= co_prijalo\n",
    "        soubor_prijatych_zmen.write(f\"{prijate_zmeny_polohy} \\n\")\n",
    "\n",
    "        soubor_poloh_MC.write(f\"{pocet_castic}\\n \\n\")\n",
    "        for castice in polohy:\n",
    "            soubor_poloh_MC.write(\"Ar \")\n",
    "            soubor_poloh_MC.write(\" \".join(map(str, castice)) + \"\\n\") \n",
    "        \n",
    "        prubeh_prijatych_zmen_e_pot.append(co_prijalo)\n",
    "        e_p.append(en_pot_n)\n",
    "        soubor_energie_MC.write(f\"{i} {en_pot_n} \\n\")  \n",
    "                   \n",
    "    soubor_energie_MC.close()\n",
    "    soubor_poloh_MC.close()\n",
    "    soubor_prijatych_zmen.close()\n",
    "    \n",
    "    return prubeh_prijatych_zmen_e_pot, e_p, prijate_zmeny_polohy"
   ]
  },
  {
   "cell_type": "code",
   "execution_count": 97,
   "metadata": {},
   "outputs": [],
   "source": [
    "prubeh_prijatych_zmen_e_pot, e_p, prijate_zmeny_polohy = main()"
   ]
  },
  {
   "cell_type": "code",
   "execution_count": 98,
   "metadata": {},
   "outputs": [],
   "source": [
    "soubor_energie_MC.close()\n",
    "soubor_poloh_MC.close()\n",
    "soubor_prijatych_zmen.close()"
   ]
  },
  {
   "cell_type": "code",
   "execution_count": 99,
   "metadata": {},
   "outputs": [
    {
     "name": "stdout",
     "output_type": "stream",
     "text": [
      "zlomek prijeti: 1.0\n"
     ]
    }
   ],
   "source": [
    "pocet_kroku = 50\n",
    "zlomek = prijate_zmeny_polohy/pocet_kroku\n",
    "print(f\"zlomek prijeti: {zlomek}\")"
   ]
  },
  {
   "cell_type": "code",
   "execution_count": 100,
   "metadata": {},
   "outputs": [
    {
     "data": {
      "text/plain": [
       "[<matplotlib.lines.Line2D at 0x1edd1b29940>]"
      ]
     },
     "execution_count": 100,
     "metadata": {},
     "output_type": "execute_result"
    },
    {
     "data": {
      "image/png": "[encoded data removed]",
      "text/plain": [
       "<Figure size 640x480 with 1 Axes>"
      ]
     },
     "metadata": {},
     "output_type": "display_data"
    }
   ],
   "source": [
    "plt.plot(e_p)"
   ]
  }
 ],
 "metadata": {
  "kernelspec": {
   "display_name": "Python 3",
   "language": "python",
   "name": "python3"
  },
  "language_info": {
   "codemirror_mode": {
    "name": "ipython",
    "version": 3
   },
   "file_extension": ".py",
   "mimetype": "text/x-python",
   "name": "python",
   "nbconvert_exporter": "python",
   "pygments_lexer": "ipython3",
   "version": "3.12.3"
  }
 },
 "nbformat": 4,
 "nbformat_minor": 2
}
